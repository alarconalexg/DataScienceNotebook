{
 "cells": [
  {
   "cell_type": "markdown",
   "id": "878b00f2-5f00-4fd1-ac77-e62e29933976",
   "metadata": {},
   "source": [
    "# Data Science Tools and Ecosystem"
   ]
  },
  {
   "cell_type": "markdown",
   "id": "cce3b72f-7279-43e4-b5cc-d1abc4a56bbe",
   "metadata": {},
   "source": [
    "In this notebook, Data Science Tools and Ecosystem are summarized."
   ]
  },
  {
   "cell_type": "markdown",
   "id": "eb09c160-88e5-4486-9069-69082f81a299",
   "metadata": {},
   "source": [
    "**Objectives:**\n",
    "- List popular languages for Data Science.\n",
    "- Introduce basic arithmetic operations in Python.\n",
    "- Demonstrate how to convert units of time in Python."
   ]
  },
  {
   "cell_type": "markdown",
   "id": "b8b19501-4005-493f-b02c-797db90c0a4a",
   "metadata": {},
   "source": [
    "Some of the popular languages that Data Scientists use are:"
   ]
  },
  {
   "cell_type": "markdown",
   "id": "d4ba943a-d6ea-43b7-8fd0-7d964dc350cb",
   "metadata": {},
   "source": [
    "1. Python\n",
    "2. R\n",
    "3. SQL"
   ]
  },
  {
   "cell_type": "markdown",
   "id": "6f058d41-86fe-4f5d-b4b7-120d01e1a011",
   "metadata": {},
   "source": [
    "Some of the commonly used libraries used by Data Scientists include:"
   ]
  },
  {
   "cell_type": "markdown",
   "id": "4dd62156-d01f-4c61-bfe6-1c52fff333c1",
   "metadata": {
    "tags": []
   },
   "source": [
    "1. NumPy\n",
    "2. Pandas\n",
    "3. Matplotlib"
   ]
  },
  {
   "cell_type": "markdown",
   "id": "bf7a3bb1-225f-488f-be91-8f33eca6e2b4",
   "metadata": {},
   "source": [
    "| Data Science Tools |\n",
    "|--------------------|\n",
    "| Jupyter notebook             |\n",
    "| Asure             |\n",
    "| Anaconda             |"
   ]
  },
  {
   "cell_type": "markdown",
   "id": "044c999e-9b57-45bd-9bc1-dd0fae603679",
   "metadata": {
    "tags": []
   },
   "source": [
    "### Below are a few examples of evaluating arithmetic expressions in Python."
   ]
  },
  {
   "cell_type": "code",
   "execution_count": 3,
   "id": "9789fd6c-6d9b-426f-bad8-232931dafbd0",
   "metadata": {
    "tags": []
   },
   "outputs": [
    {
     "data": {
      "text/plain": [
       "17"
      ]
     },
     "execution_count": 3,
     "metadata": {},
     "output_type": "execute_result"
    }
   ],
   "source": [
    "# This is a simple arithmetic expression to multiply then add integers.\n",
    "(3*4)+5"
   ]
  },
  {
   "cell_type": "code",
   "execution_count": 4,
   "id": "04316850-8544-4baf-851f-62d371aaf32f",
   "metadata": {
    "tags": []
   },
   "outputs": [
    {
     "data": {
      "text/plain": [
       "3.3333333333333335"
      ]
     },
     "execution_count": 4,
     "metadata": {},
     "output_type": "execute_result"
    }
   ],
   "source": [
    "# This will convert 200 minutes to hours by dividing by 60.\n",
    "200 / 60"
   ]
  },
  {
   "cell_type": "markdown",
   "id": "393d2a8e-3479-4efe-b546-b4b6c5ac23d1",
   "metadata": {
    "tags": []
   },
   "source": [
    "## Author\n",
    "\n",
    "Alex Alarcon"
   ]
  },
  {
   "cell_type": "code",
   "execution_count": null,
   "id": "96817e82-40c0-4245-a9e8-092def988948",
   "metadata": {},
   "outputs": [],
   "source": []
  }
 ],
 "metadata": {
  "kernelspec": {
   "display_name": "Python",
   "language": "python",
   "name": "conda-env-python-py"
  },
  "language_info": {
   "codemirror_mode": {
    "name": "ipython",
    "version": 3
   },
   "file_extension": ".py",
   "mimetype": "text/x-python",
   "name": "python",
   "nbconvert_exporter": "python",
   "pygments_lexer": "ipython3",
   "version": "3.7.12"
  }
 },
 "nbformat": 4,
 "nbformat_minor": 5
}
